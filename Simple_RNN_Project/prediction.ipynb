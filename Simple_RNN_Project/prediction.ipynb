{
 "cells": [
  {
   "cell_type": "code",
   "execution_count": 12,
   "metadata": {},
   "outputs": [],
   "source": [
    "# Import Libraries and Load the Model\n",
    "import numpy as np\n",
    "import tensorflow as tf\n",
    "from tensorflow.keras.datasets import imdb\n",
    "from tensorflow.keras.preprocessing import sequence\n",
    "from tensorflow.keras.models import load_model"
   ]
  },
  {
   "cell_type": "code",
   "execution_count": 13,
   "metadata": {},
   "outputs": [],
   "source": [
    "\n",
    "# Load the IMDB dataset word index\n",
    "word_index = imdb.get_word_index()"
   ]
  },
  {
   "cell_type": "code",
   "execution_count": 14,
   "metadata": {},
   "outputs": [
    {
     "name": "stderr",
     "output_type": "stream",
     "text": [
      "WARNING:absl:Compiled the loaded model, but the compiled metrics have yet to be built. `model.compile_metrics` will be empty until you train or evaluate the model.\n"
     ]
    },
    {
     "data": {
      "text/html": [
       "<pre style=\"white-space:pre;overflow-x:auto;line-height:normal;font-family:Menlo,'DejaVu Sans Mono',consolas,'Courier New',monospace\"><span style=\"font-weight: bold\">Model: \"sequential_1\"</span>\n",
       "</pre>\n"
      ],
      "text/plain": [
       "\u001b[1mModel: \"sequential_1\"\u001b[0m\n"
      ]
     },
     "metadata": {},
     "output_type": "display_data"
    },
    {
     "data": {
      "text/html": [
       "<pre style=\"white-space:pre;overflow-x:auto;line-height:normal;font-family:Menlo,'DejaVu Sans Mono',consolas,'Courier New',monospace\">┏━━━━━━━━━━━━━━━━━━━━━━━━━━━━━━━━━┳━━━━━━━━━━━━━━━━━━━━━━━━┳━━━━━━━━━━━━━━━┓\n",
       "┃<span style=\"font-weight: bold\"> Layer (type)                    </span>┃<span style=\"font-weight: bold\"> Output Shape           </span>┃<span style=\"font-weight: bold\">       Param # </span>┃\n",
       "┡━━━━━━━━━━━━━━━━━━━━━━━━━━━━━━━━━╇━━━━━━━━━━━━━━━━━━━━━━━━╇━━━━━━━━━━━━━━━┩\n",
       "│ embedding_1 (<span style=\"color: #0087ff; text-decoration-color: #0087ff\">Embedding</span>)         │ (<span style=\"color: #00af00; text-decoration-color: #00af00\">32</span>, <span style=\"color: #00af00; text-decoration-color: #00af00\">500</span>, <span style=\"color: #00af00; text-decoration-color: #00af00\">128</span>)         │     <span style=\"color: #00af00; text-decoration-color: #00af00\">1,280,000</span> │\n",
       "├─────────────────────────────────┼────────────────────────┼───────────────┤\n",
       "│ simple_rnn_1 (<span style=\"color: #0087ff; text-decoration-color: #0087ff\">SimpleRNN</span>)        │ (<span style=\"color: #00af00; text-decoration-color: #00af00\">32</span>, <span style=\"color: #00af00; text-decoration-color: #00af00\">128</span>)              │        <span style=\"color: #00af00; text-decoration-color: #00af00\">32,896</span> │\n",
       "├─────────────────────────────────┼────────────────────────┼───────────────┤\n",
       "│ dense_1 (<span style=\"color: #0087ff; text-decoration-color: #0087ff\">Dense</span>)                 │ (<span style=\"color: #00af00; text-decoration-color: #00af00\">32</span>, <span style=\"color: #00af00; text-decoration-color: #00af00\">1</span>)                │           <span style=\"color: #00af00; text-decoration-color: #00af00\">129</span> │\n",
       "└─────────────────────────────────┴────────────────────────┴───────────────┘\n",
       "</pre>\n"
      ],
      "text/plain": [
       "┏━━━━━━━━━━━━━━━━━━━━━━━━━━━━━━━━━┳━━━━━━━━━━━━━━━━━━━━━━━━┳━━━━━━━━━━━━━━━┓\n",
       "┃\u001b[1m \u001b[0m\u001b[1mLayer (type)                   \u001b[0m\u001b[1m \u001b[0m┃\u001b[1m \u001b[0m\u001b[1mOutput Shape          \u001b[0m\u001b[1m \u001b[0m┃\u001b[1m \u001b[0m\u001b[1m      Param #\u001b[0m\u001b[1m \u001b[0m┃\n",
       "┡━━━━━━━━━━━━━━━━━━━━━━━━━━━━━━━━━╇━━━━━━━━━━━━━━━━━━━━━━━━╇━━━━━━━━━━━━━━━┩\n",
       "│ embedding_1 (\u001b[38;5;33mEmbedding\u001b[0m)         │ (\u001b[38;5;34m32\u001b[0m, \u001b[38;5;34m500\u001b[0m, \u001b[38;5;34m128\u001b[0m)         │     \u001b[38;5;34m1,280,000\u001b[0m │\n",
       "├─────────────────────────────────┼────────────────────────┼───────────────┤\n",
       "│ simple_rnn_1 (\u001b[38;5;33mSimpleRNN\u001b[0m)        │ (\u001b[38;5;34m32\u001b[0m, \u001b[38;5;34m128\u001b[0m)              │        \u001b[38;5;34m32,896\u001b[0m │\n",
       "├─────────────────────────────────┼────────────────────────┼───────────────┤\n",
       "│ dense_1 (\u001b[38;5;33mDense\u001b[0m)                 │ (\u001b[38;5;34m32\u001b[0m, \u001b[38;5;34m1\u001b[0m)                │           \u001b[38;5;34m129\u001b[0m │\n",
       "└─────────────────────────────────┴────────────────────────┴───────────────┘\n"
      ]
     },
     "metadata": {},
     "output_type": "display_data"
    },
    {
     "data": {
      "text/html": [
       "<pre style=\"white-space:pre;overflow-x:auto;line-height:normal;font-family:Menlo,'DejaVu Sans Mono',consolas,'Courier New',monospace\"><span style=\"font-weight: bold\"> Total params: </span><span style=\"color: #00af00; text-decoration-color: #00af00\">1,313,027</span> (5.01 MB)\n",
       "</pre>\n"
      ],
      "text/plain": [
       "\u001b[1m Total params: \u001b[0m\u001b[38;5;34m1,313,027\u001b[0m (5.01 MB)\n"
      ]
     },
     "metadata": {},
     "output_type": "display_data"
    },
    {
     "data": {
      "text/html": [
       "<pre style=\"white-space:pre;overflow-x:auto;line-height:normal;font-family:Menlo,'DejaVu Sans Mono',consolas,'Courier New',monospace\"><span style=\"font-weight: bold\"> Trainable params: </span><span style=\"color: #00af00; text-decoration-color: #00af00\">1,313,025</span> (5.01 MB)\n",
       "</pre>\n"
      ],
      "text/plain": [
       "\u001b[1m Trainable params: \u001b[0m\u001b[38;5;34m1,313,025\u001b[0m (5.01 MB)\n"
      ]
     },
     "metadata": {},
     "output_type": "display_data"
    },
    {
     "data": {
      "text/html": [
       "<pre style=\"white-space:pre;overflow-x:auto;line-height:normal;font-family:Menlo,'DejaVu Sans Mono',consolas,'Courier New',monospace\"><span style=\"font-weight: bold\"> Non-trainable params: </span><span style=\"color: #00af00; text-decoration-color: #00af00\">0</span> (0.00 B)\n",
       "</pre>\n"
      ],
      "text/plain": [
       "\u001b[1m Non-trainable params: \u001b[0m\u001b[38;5;34m0\u001b[0m (0.00 B)\n"
      ]
     },
     "metadata": {},
     "output_type": "display_data"
    },
    {
     "data": {
      "text/html": [
       "<pre style=\"white-space:pre;overflow-x:auto;line-height:normal;font-family:Menlo,'DejaVu Sans Mono',consolas,'Courier New',monospace\"><span style=\"font-weight: bold\"> Optimizer params: </span><span style=\"color: #00af00; text-decoration-color: #00af00\">2</span> (12.00 B)\n",
       "</pre>\n"
      ],
      "text/plain": [
       "\u001b[1m Optimizer params: \u001b[0m\u001b[38;5;34m2\u001b[0m (12.00 B)\n"
      ]
     },
     "metadata": {},
     "output_type": "display_data"
    }
   ],
   "source": [
    "# Load the pre-trained model with ReLU activation\n",
    "model = load_model('simple_rnn_imdb.h5')\n",
    "model.summary()"
   ]
  },
  {
   "cell_type": "code",
   "execution_count": 15,
   "metadata": {},
   "outputs": [
    {
     "data": {
      "text/plain": [
       "[array([[ 0.01677725, -0.08465187,  0.04042738, ..., -0.10404275,\n",
       "          0.04207942,  0.12495682],\n",
       "        [-0.05305846, -0.00686251, -0.05041716, ..., -0.07797974,\n",
       "          0.06728212,  0.01680266],\n",
       "        [ 0.05913063, -0.02778593,  0.03801649, ..., -0.09619972,\n",
       "          0.10916337, -0.01197271],\n",
       "        ...,\n",
       "        [-0.05443567, -0.02586531,  0.00607109, ..., -0.04816267,\n",
       "          0.04068272,  0.08278976],\n",
       "        [-0.05163164,  0.03795691,  0.02206475, ...,  0.00378117,\n",
       "         -0.02035147,  0.00250598],\n",
       "        [-0.0139928 , -0.02431064,  0.00493403, ...,  0.02889969,\n",
       "          0.02058777,  0.03145431]], dtype=float32),\n",
       " array([[-0.03487039, -0.06635806,  0.06307531, ...,  0.07038038,\n",
       "         -0.09269146,  0.05376608],\n",
       "        [ 0.02768858, -0.02211932, -0.06653385, ..., -0.05301617,\n",
       "         -0.10906622,  0.06604951],\n",
       "        [ 0.00244656, -0.08810027, -0.05528986, ..., -0.07682893,\n",
       "          0.16139881, -0.05214688],\n",
       "        ...,\n",
       "        [-0.02950769, -0.01175704, -0.06380199, ..., -0.03297806,\n",
       "         -0.10493947,  0.13035344],\n",
       "        [-0.10443705, -0.06013428, -0.00180327, ...,  0.07070965,\n",
       "          0.13360046,  0.0582312 ],\n",
       "        [-0.14087392, -0.01667038, -0.06924444, ...,  0.03510904,\n",
       "          0.13548902, -0.03554634]], dtype=float32),\n",
       " array([[ 0.17312656, -0.03044304,  0.09363723, ...,  0.11608712,\n",
       "         -0.0281475 ,  0.00247793],\n",
       "        [-0.00222671,  0.05260971, -0.03413304, ...,  0.14804997,\n",
       "         -0.16001402,  0.02184295],\n",
       "        [ 0.06343418, -0.06438408, -0.01721677, ..., -0.09900244,\n",
       "         -0.07200173,  0.00074889],\n",
       "        ...,\n",
       "        [ 0.08373367, -0.05559649, -0.17875995, ...,  0.08848134,\n",
       "          0.00243606, -0.1170897 ],\n",
       "        [ 0.03235727, -0.08801328, -0.12073156, ...,  0.00114189,\n",
       "          0.12194081, -0.0260151 ],\n",
       "        [-0.00409309, -0.01824705, -0.04156303, ...,  0.08657778,\n",
       "         -0.09712513,  0.08435084]], dtype=float32),\n",
       " array([ 7.3656584e-03, -1.7404119e-02, -1.8864814e-02, -2.4600726e-02,\n",
       "         1.3448525e-02, -1.1590375e-02,  3.0266330e-02,  1.1257856e-02,\n",
       "         2.4317128e-04,  2.2455161e-03, -1.1084645e-02,  5.3677766e-04,\n",
       "         1.4639284e-02, -1.9372206e-02, -4.3849658e-02,  1.3681259e-02,\n",
       "         7.6796096e-03, -2.4945814e-02,  1.7232431e-02,  1.0478231e-02,\n",
       "        -7.6284013e-03, -1.6290665e-02,  4.5680255e-03, -9.2790630e-03,\n",
       "         8.3434833e-03, -2.4526599e-03,  2.5828136e-02, -1.9695861e-02,\n",
       "        -8.9330245e-03,  1.6980402e-02,  1.4560001e-02, -9.9790161e-03,\n",
       "        -2.1575872e-02,  2.6417842e-02, -2.6304163e-03, -2.7050199e-02,\n",
       "        -3.4188174e-02, -5.5491277e-03,  8.5040992e-03, -2.9889673e-02,\n",
       "        -1.8115835e-02, -1.9187184e-02, -5.5295830e-03,  3.9794776e-03,\n",
       "         5.1457952e-03, -2.3681656e-02, -1.6112395e-02, -3.7022956e-02,\n",
       "         1.5463444e-02, -1.9150725e-02, -1.6590791e-02,  1.9198606e-02,\n",
       "         2.0405222e-02,  1.7364938e-02,  1.9930538e-03, -8.8574886e-03,\n",
       "        -1.9673930e-02,  1.2023010e-02, -1.2921512e-02, -2.4018509e-02,\n",
       "        -2.3650516e-02,  5.0428435e-03,  3.6655830e-03,  9.1414312e-03,\n",
       "         1.2395401e-03,  1.9807005e-02,  6.2509519e-03, -1.8598581e-02,\n",
       "        -7.4657113e-03,  4.6175607e-03,  5.3168843e-03,  2.1551708e-02,\n",
       "         2.0919925e-02,  6.4830552e-03, -2.6193200e-04, -3.3695232e-02,\n",
       "         6.7634706e-04, -1.3949144e-02,  5.8491328e-03, -2.8267065e-02,\n",
       "        -1.1173049e-05, -1.5145372e-02, -3.5375683e-03, -1.7633425e-02,\n",
       "        -4.3449465e-02, -8.9530256e-03, -4.5411629e-03,  1.2583717e-03,\n",
       "         2.9550353e-03,  7.2308391e-02, -3.0162593e-02, -1.5417141e-02,\n",
       "         1.7422633e-03,  5.0078328e-03,  2.4316127e-03,  1.1360995e-02,\n",
       "        -1.3383708e-02, -3.2830380e-02, -7.1120891e-03, -3.3638183e-02,\n",
       "        -7.7106208e-03,  2.0167390e-02, -3.4933987e-03,  3.1741519e-02,\n",
       "        -2.2222355e-02, -2.7920293e-02, -1.5592678e-02, -5.2011004e-03,\n",
       "         2.0898968e-02,  1.5933810e-02, -2.5029934e-04, -6.6381078e-03,\n",
       "        -2.1808395e-02, -7.0217927e-03, -1.7950438e-02,  5.6837667e-03,\n",
       "        -3.3798333e-02,  9.9055385e-03,  2.4759965e-02,  6.6674408e-03,\n",
       "         4.3606237e-03,  4.2204913e-03, -3.1273440e-02,  3.4739333e-03,\n",
       "        -8.9971663e-04,  2.9469181e-03,  2.2702109e-02, -1.6382610e-02],\n",
       "       dtype=float32),\n",
       " array([[-0.20582893],\n",
       "        [ 0.02440692],\n",
       "        [-0.08948769],\n",
       "        [-0.03066357],\n",
       "        [-0.44984147],\n",
       "        [-0.27986354],\n",
       "        [-0.12719582],\n",
       "        [-0.08758161],\n",
       "        [-0.14040825],\n",
       "        [ 0.14044277],\n",
       "        [-0.1303429 ],\n",
       "        [ 0.19206522],\n",
       "        [ 0.02839318],\n",
       "        [-0.19134085],\n",
       "        [ 0.07415347],\n",
       "        [ 0.11171705],\n",
       "        [ 0.19200881],\n",
       "        [-0.2686895 ],\n",
       "        [-0.07492529],\n",
       "        [ 0.05289653],\n",
       "        [-0.03555328],\n",
       "        [-0.10299611],\n",
       "        [-0.11693111],\n",
       "        [-0.05876751],\n",
       "        [-0.00254015],\n",
       "        [ 0.17108007],\n",
       "        [ 0.074914  ],\n",
       "        [ 0.06727191],\n",
       "        [ 0.12256373],\n",
       "        [ 0.12184513],\n",
       "        [-0.24149951],\n",
       "        [ 0.01592339],\n",
       "        [-0.13771696],\n",
       "        [-0.0894932 ],\n",
       "        [-0.21127903],\n",
       "        [-0.05442324],\n",
       "        [ 0.25578105],\n",
       "        [ 0.0475795 ],\n",
       "        [-0.1841249 ],\n",
       "        [-0.00854063],\n",
       "        [ 0.10656677],\n",
       "        [ 0.02154915],\n",
       "        [-0.22948465],\n",
       "        [-0.17274062],\n",
       "        [ 0.16904025],\n",
       "        [-0.13355651],\n",
       "        [-0.16390848],\n",
       "        [ 0.02256852],\n",
       "        [ 0.24163342],\n",
       "        [-0.06516031],\n",
       "        [-0.06850462],\n",
       "        [-0.41060445],\n",
       "        [ 0.1108689 ],\n",
       "        [ 0.03548315],\n",
       "        [-0.0390374 ],\n",
       "        [ 0.01612763],\n",
       "        [-0.0616477 ],\n",
       "        [ 0.12415242],\n",
       "        [-0.03465917],\n",
       "        [-0.15001516],\n",
       "        [-0.15438376],\n",
       "        [ 0.05253516],\n",
       "        [ 0.18974714],\n",
       "        [-0.06868204],\n",
       "        [ 0.01317905],\n",
       "        [-0.18615879],\n",
       "        [-0.1332296 ],\n",
       "        [ 0.12623681],\n",
       "        [-0.21863587],\n",
       "        [-0.15377805],\n",
       "        [ 0.14716102],\n",
       "        [-0.1258568 ],\n",
       "        [ 0.0059914 ],\n",
       "        [ 0.22802818],\n",
       "        [ 0.21324   ],\n",
       "        [ 0.07700462],\n",
       "        [-0.11573186],\n",
       "        [ 0.00729004],\n",
       "        [-0.20795663],\n",
       "        [-0.01690695],\n",
       "        [-0.19134024],\n",
       "        [ 0.03937285],\n",
       "        [ 0.11896232],\n",
       "        [-0.28562197],\n",
       "        [-0.13925554],\n",
       "        [-0.08318453],\n",
       "        [-0.10366596],\n",
       "        [-0.07485952],\n",
       "        [-0.07777572],\n",
       "        [-0.09680688],\n",
       "        [-0.11115757],\n",
       "        [-0.0607213 ],\n",
       "        [-0.02740633],\n",
       "        [-0.06571223],\n",
       "        [ 0.116411  ],\n",
       "        [ 0.17889196],\n",
       "        [ 0.12739374],\n",
       "        [ 0.1234762 ],\n",
       "        [-0.08425797],\n",
       "        [ 0.03472501],\n",
       "        [-0.00323752],\n",
       "        [-0.17592737],\n",
       "        [ 0.17736894],\n",
       "        [-0.08981117],\n",
       "        [ 0.07437649],\n",
       "        [ 0.18717162],\n",
       "        [-0.2723033 ],\n",
       "        [ 0.10885887],\n",
       "        [-0.04682374],\n",
       "        [ 0.17280482],\n",
       "        [ 0.02855859],\n",
       "        [-0.06140443],\n",
       "        [ 0.15396087],\n",
       "        [ 0.21852906],\n",
       "        [ 0.0131467 ],\n",
       "        [ 0.21051514],\n",
       "        [ 0.22225712],\n",
       "        [ 0.15748265],\n",
       "        [-0.17668693],\n",
       "        [-0.46712318],\n",
       "        [-0.13996103],\n",
       "        [ 0.02201132],\n",
       "        [ 0.01385858],\n",
       "        [-0.07565444],\n",
       "        [-0.17707865],\n",
       "        [ 0.08974854],\n",
       "        [ 0.08128908],\n",
       "        [-0.09785753]], dtype=float32),\n",
       " array([-0.23715672], dtype=float32)]"
      ]
     },
     "execution_count": 15,
     "metadata": {},
     "output_type": "execute_result"
    }
   ],
   "source": [
    "model.get_weights()"
   ]
  },
  {
   "cell_type": "code",
   "execution_count": 16,
   "metadata": {},
   "outputs": [],
   "source": [
    "# Function to preprocess user input\n",
    "def preprocess_text(text):\n",
    "    words = text.lower().split()\n",
    "    encoded_review = [word_index.get(word, 2) + 3 for word in words]\n",
    "    padded_review = sequence.pad_sequences([encoded_review], maxlen=500)\n",
    "    return padded_review"
   ]
  },
  {
   "cell_type": "code",
   "execution_count": 17,
   "metadata": {},
   "outputs": [],
   "source": [
    "### Prediction  function\n",
    "\n",
    "def predict_sentiment(review):\n",
    "    preprocessed_input=preprocess_text(review)\n",
    "\n",
    "    prediction=model.predict(preprocessed_input)\n",
    "\n",
    "    sentiment = 'Positive' if prediction[0][0] > 0.5 else 'Negative'\n",
    "    \n",
    "    return sentiment, prediction[0][0]\n",
    "\n"
   ]
  },
  {
   "cell_type": "code",
   "execution_count": 18,
   "metadata": {},
   "outputs": [
    {
     "name": "stdout",
     "output_type": "stream",
     "text": [
      "\u001b[1m1/1\u001b[0m \u001b[32m━━━━━━━━━━━━━━━━━━━━\u001b[0m\u001b[37m\u001b[0m \u001b[1m0s\u001b[0m 241ms/step\n",
      "Review: This movie was fantastic! The acting was great and the plot was thrilling.\n",
      "Sentiment: Positive\n",
      "Prediction Score: 0.972834050655365\n"
     ]
    }
   ],
   "source": [
    "# Example review for prediction\n",
    "example_review = \"This movie was fantastic! The acting was great and the plot was thrilling.\"\n",
    "\n",
    "sentiment,score=predict_sentiment(example_review)\n",
    "\n",
    "print(f'Review: {example_review}')\n",
    "print(f'Sentiment: {sentiment}')\n",
    "print(f'Prediction Score: {score}')"
   ]
  },
  {
   "cell_type": "code",
   "execution_count": null,
   "metadata": {},
   "outputs": [],
   "source": []
  },
  {
   "cell_type": "code",
   "execution_count": null,
   "metadata": {},
   "outputs": [],
   "source": []
  },
  {
   "cell_type": "code",
   "execution_count": null,
   "metadata": {},
   "outputs": [],
   "source": []
  },
  {
   "cell_type": "code",
   "execution_count": null,
   "metadata": {},
   "outputs": [],
   "source": []
  }
 ],
 "metadata": {
  "kernelspec": {
   "display_name": "Python 3",
   "language": "python",
   "name": "python3"
  },
  "language_info": {
   "codemirror_mode": {
    "name": "ipython",
    "version": 3
   },
   "file_extension": ".py",
   "mimetype": "text/x-python",
   "name": "python",
   "nbconvert_exporter": "python",
   "pygments_lexer": "ipython3",
   "version": "3.11.0"
  }
 },
 "nbformat": 4,
 "nbformat_minor": 2
}
